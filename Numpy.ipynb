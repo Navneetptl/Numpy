{
 "cells": [
  {
   "cell_type": "code",
   "execution_count": 64,
   "metadata": {},
   "outputs": [],
   "source": [
    "import numpy as np"
   ]
  },
  {
   "cell_type": "code",
   "execution_count": 13,
   "metadata": {},
   "outputs": [
    {
     "data": {
      "text/plain": [
       "array([[ 3,  4,  1],\n",
       "       [45,  3, 21],\n",
       "       [43, 54, 76],\n",
       "       [45, 87,  1]])"
      ]
     },
     "execution_count": 13,
     "metadata": {},
     "output_type": "execute_result"
    }
   ],
   "source": [
    "b = np.array([[3,4,1],[45,3,21],[43,54,76],[45,87,1]])\n",
    "b"
   ]
  },
  {
   "cell_type": "code",
   "execution_count": 14,
   "metadata": {},
   "outputs": [
    {
     "data": {
      "text/plain": [
       "(4, 3)"
      ]
     },
     "execution_count": 14,
     "metadata": {},
     "output_type": "execute_result"
    }
   ],
   "source": [
    "#b here is a 2 dimensional array , you can quickly determine size of each dimension by looking at shape attribute of an array \n",
    "b.shape"
   ]
  },
  {
   "cell_type": "code",
   "execution_count": 16,
   "metadata": {},
   "outputs": [
    {
     "data": {
      "text/plain": [
       "54"
      ]
     },
     "execution_count": 16,
     "metadata": {},
     "output_type": "execute_result"
    }
   ],
   "source": [
    "#if we want to extract value 54 from the array created above , we will need to access it with its indices across both the axes. \n",
    "b[2,1]"
   ]
  },
  {
   "cell_type": "code",
   "execution_count": 18,
   "metadata": {},
   "outputs": [
    {
     "data": {
      "text/plain": [
       "array([4, 3])"
      ]
     },
     "execution_count": 18,
     "metadata": {},
     "output_type": "execute_result"
    }
   ],
   "source": [
    "#slicing in arrays\n",
    "#syntax array_name[rowstart:rowend:steps,columnstart:columnend:steps]\n",
    "b[:2,1]"
   ]
  },
  {
   "cell_type": "code",
   "execution_count": 19,
   "metadata": {},
   "outputs": [
    {
     "data": {
      "text/plain": [
       "array([ 4,  3, 54, 87])"
      ]
     },
     "execution_count": 19,
     "metadata": {},
     "output_type": "execute_result"
    }
   ],
   "source": [
    "b[:,1]"
   ]
  },
  {
   "cell_type": "code",
   "execution_count": 23,
   "metadata": {},
   "outputs": [
    {
     "data": {
      "text/plain": [
       "array([43, 54, 76])"
      ]
     },
     "execution_count": 23,
     "metadata": {},
     "output_type": "execute_result"
    }
   ],
   "source": [
    "#by default you can access all the elements of a single list in a 2d array by providing a single index as well\n",
    "b[1]\n",
    "b[2]"
   ]
  },
  {
   "cell_type": "code",
   "execution_count": 24,
   "metadata": {},
   "outputs": [
    {
     "data": {
      "text/plain": [
       "array([ 4, 21,  3])"
      ]
     },
     "execution_count": 24,
     "metadata": {},
     "output_type": "execute_result"
    }
   ],
   "source": [
    "b[[0,1,1],[1,2,1]]\n",
    "#here elements will come from pairing of indices , (0,1) , (1,2) and (1,1)"
   ]
  },
  {
   "cell_type": "code",
   "execution_count": 25,
   "metadata": {},
   "outputs": [
    {
     "name": "stdout",
     "output_type": "stream",
     "text": [
      "[[ 3  4  1]\n",
      " [45  3 21]\n",
      " [43 54 76]\n",
      " [45 87  1]]\n",
      "[[  3 -10   1]\n",
      " [ 45 -30 -20]\n",
      " [ 43  54  76]\n",
      " [ 45  87   1]]\n"
     ]
    }
   ],
   "source": [
    "#you can use thin index access for modification as well\n",
    "print(b)\n",
    "b[[0,1,1],[1,2,1]]=[-10,-20,-30]\n",
    "print(b)"
   ]
  },
  {
   "cell_type": "code",
   "execution_count": 26,
   "metadata": {},
   "outputs": [
    {
     "data": {
      "text/plain": [
       "array([[ True, False, False],\n",
       "       [ True, False, False],\n",
       "       [ True,  True,  True],\n",
       "       [ True,  True, False]])"
      ]
     },
     "execution_count": 26,
     "metadata": {},
     "output_type": "execute_result"
    }
   ],
   "source": [
    "# b>0 this will return boolean value as true and false on entire array\n",
    "b>2"
   ]
  },
  {
   "cell_type": "code",
   "execution_count": 27,
   "metadata": {},
   "outputs": [
    {
     "data": {
      "text/plain": [
       "array([ 3, 45, 43, 54, 76, 45, 87])"
      ]
     },
     "execution_count": 27,
     "metadata": {},
     "output_type": "execute_result"
    }
   ],
   "source": [
    "b[b>2]\n",
    "#this will reurn the actual values in the arrays"
   ]
  },
  {
   "cell_type": "code",
   "execution_count": 30,
   "metadata": {},
   "outputs": [
    {
     "data": {
      "text/plain": [
       "array([[  3, -10,   1],\n",
       "       [ 45, -30, -20],\n",
       "       [ 43,  54,  76],\n",
       "       [ 45,  87,   1]])"
      ]
     },
     "execution_count": 30,
     "metadata": {},
     "output_type": "execute_result"
    }
   ],
   "source": [
    "b"
   ]
  },
  {
   "cell_type": "code",
   "execution_count": 38,
   "metadata": {},
   "outputs": [
    {
     "data": {
      "text/plain": [
       "array([[  3, -10]])"
      ]
     },
     "execution_count": 38,
     "metadata": {},
     "output_type": "execute_result"
    }
   ],
   "source": [
    "b[:1,:2]"
   ]
  },
  {
   "cell_type": "code",
   "execution_count": 40,
   "metadata": {},
   "outputs": [
    {
     "data": {
      "text/plain": [
       "array([False,  True,  True])"
      ]
     },
     "execution_count": 40,
     "metadata": {},
     "output_type": "execute_result"
    }
   ],
   "source": [
    "b[2]>50"
   ]
  },
  {
   "cell_type": "code",
   "execution_count": 67,
   "metadata": {},
   "outputs": [
    {
     "name": "stdout",
     "output_type": "stream",
     "text": [
      "[0.11182812 0.860995   0.59336978 0.24306295 0.56385032 0.37103429\n",
      " 0.67900162 0.75356956 0.27495408 0.36428931 0.44974478 0.208523\n",
      " 0.97500928 0.79732068 0.30202974 0.10660254 0.81749637 0.31998159\n",
      " 0.98319106 0.98806468]\n"
     ]
    }
   ],
   "source": [
    "#Generating random values\n",
    "#used to genrate random numbers between 0 to 1\n",
    "a=np.random.rand(20)\n",
    "print(a)"
   ]
  },
  {
   "cell_type": "code",
   "execution_count": 70,
   "metadata": {},
   "outputs": [
    {
     "name": "stdout",
     "output_type": "stream",
     "text": [
      "[ 1.38528039  0.23825765  0.35769547  1.7992677   0.71319393  1.1236914\n",
      "  0.04444327 -1.0777365   1.74526182 -1.68221079 -1.41967776  0.92333665\n",
      " -1.60476134 -1.52059349  0.90872047  1.36203205 -2.40231787  0.50053034\n",
      "  1.63214688  1.12008852]\n"
     ]
    }
   ],
   "source": [
    "#randn fundtion: used to genarte random numbers which will follow normal distribution\n",
    "b=np.random.randn(20)\n",
    "print(b)"
   ]
  },
  {
   "cell_type": "code",
   "execution_count": 77,
   "metadata": {},
   "outputs": [
    {
     "data": {
      "text/plain": [
       "array([9, 7, 8])"
      ]
     },
     "execution_count": 77,
     "metadata": {},
     "output_type": "execute_result"
    }
   ],
   "source": [
    "#randint function: used to generate random integer number between two values\n",
    "#It takes three parameters start point, end point and number of elements to be genrated (all in intergers)\n",
    "c=np.random.randint(2,10,3)\n",
    "c"
   ]
  },
  {
   "cell_type": "code",
   "execution_count": 88,
   "metadata": {},
   "outputs": [
    {
     "name": "stdout",
     "output_type": "stream",
     "text": [
      "[[  37   68   36    1   83   25]\n",
      " [ -39  -87   12 -158   74  -81]\n",
      " [ -10 -119  -65   89   65 -177]\n",
      " [  45  -42 -132 -168   46  -68]]\n"
     ]
    }
   ],
   "source": [
    "#We can also generate the arrays with random values\n",
    "# you just have to pass size of the array\n",
    "e=np.random.randint(-200,100,(4,6))\n",
    "print(e)"
   ]
  },
  {
   "cell_type": "code",
   "execution_count": 81,
   "metadata": {},
   "outputs": [
    {
     "data": {
      "text/plain": [
       "array([2. , 7.3])"
      ]
     },
     "execution_count": 81,
     "metadata": {},
     "output_type": "execute_result"
    }
   ],
   "source": [
    "#arange function: similar to range function. Only difference is it can accept float values.\n",
    "#It takes three parameters start point, end point and number of elements to be genrated\n",
    "d=np.arange(2,10,5.3)\n",
    "d"
   ]
  },
  {
   "cell_type": "code",
   "execution_count": 85,
   "metadata": {},
   "outputs": [
    {
     "name": "stdout",
     "output_type": "stream",
     "text": [
      "[ 1.   3.5  6.   8.5 11. ]\n"
     ]
    }
   ],
   "source": [
    "#linspace: it is used to generate random numbers where you dont want to specify the steps and want system to calculate\n",
    "#it takes three parameter start point, end point and number of elements to be ganerated\n",
    "e=np.linspace(1,11,5)\n",
    "print(e)"
   ]
  },
  {
   "cell_type": "code",
   "execution_count": 99,
   "metadata": {},
   "outputs": [
    {
     "name": "stdout",
     "output_type": "stream",
     "text": [
      "[6 1 8 1 3 5 4 3 6 6]\n",
      "[6 1 3 3 4 8]\n"
     ]
    }
   ],
   "source": [
    "#choice function: If we want to select random values from an existing array\n",
    "#It will be just picking values\n",
    "f=np.random.randint(1,10,10)\n",
    "print(f)\n",
    "g=np.random.choice(f,6,False)\n",
    "print(g)"
   ]
  },
  {
   "cell_type": "code",
   "execution_count": 101,
   "metadata": {},
   "outputs": [
    {
     "name": "stdout",
     "output_type": "stream",
     "text": [
      "['b' 'a' 'a' 'b' 'b' 'a' 'f' 'c' 'c' 'c' 'c' 'f' 'c' 'f' 'a' 'a' 'a' 'c'\n",
      " 'c' 'b' 'f' 'f' 'f' 'f' 'a' 'b' 'b' 'c' 'c' 'c' 'f' 'b' 'b' 'b' 'b' 'f'\n",
      " 'c' 'a' 'f' 'a' 'f' 'b' 'c' 'a' 'c' 'c' 'f' 'a' 'f' 'f' 'a' 'a' 'b' 'f'\n",
      " 'c' 'b' 'a' 'c' 'f' 'c' 'f' 'b' 'c' 'a' 'a' 'c' 'f' 'c' 'c' 'f' 'c' 'b'\n",
      " 'b' 'a' 'b' 'b' 'c' 'f' 'c' 'b' 'c' 'c' 'c' 'a' 'c' 'c' 'b' 'a' 'b' 'f'\n",
      " 'b' 'f' 'a' 'c' 'f' 'b' 'c' 'a' 'f' 'b' 'c' 'b' 'b' 'f' 'f' 'a' 'f' 'b'\n",
      " 'a' 'f' 'a' 'a' 'a' 'f' 'a' 'c' 'c' 'c' 'f' 'a' 'a' 'c' 'f' 'f' 'f' 'c'\n",
      " 'b' 'b' 'f' 'a' 'a' 'f' 'a' 'c' 'f' 'f' 'f' 'c' 'c' 'f' 'a' 'b' 'f' 'f'\n",
      " 'a' 'a' 'f' 'f' 'f' 'f' 'a' 'f' 'f' 'f' 'f' 'b' 'f' 'a' 'c' 'c' 'c' 'f'\n",
      " 'b' 'b' 'f' 'c' 'f' 'f' 'b' 'b' 'c' 'c' 'b' 'c' 'a' 'f' 'a' 'a' 'a' 'a'\n",
      " 'b' 'b' 'b' 'c' 'f' 'b' 'b' 'a' 'f' 'b' 'c' 'a' 'a' 'b' 'a' 'a' 'b' 'a'\n",
      " 'f' 'b' 'f' 'c' 'c' 'b' 'b' 'c' 'b' 'b' 'b' 'b' 'b' 'f' 'b' 'a' 'a' 'b'\n",
      " 'a' 'b' 'c' 'c' 'b' 'a' 'b' 'f' 'b' 'a' 'a' 'a' 'b' 'b' 'b' 'b' 'c' 'b'\n",
      " 'c' 'b' 'a' 'f' 'b' 'a' 'f' 'c' 'f' 'a' 'c' 'c' 'f' 'a' 'c' 'c' 'a' 'c'\n",
      " 'c' 'b' 'a' 'f' 'f' 'b' 'a' 'f' 'f' 'c' 'a' 'b' 'a' 'c' 'a' 'a' 'b' 'a'\n",
      " 'b' 'a' 'b' 'a' 'b' 'b' 'c' 'b' 'b' 'c' 'f' 'f' 'b' 'f' 'f' 'a' 'a' 'b'\n",
      " 'b' 'c' 'a' 'c' 'b' 'c' 'b' 'c' 'c' 'f' 'b' 'c' 'c' 'f' 'c' 'a' 'b' 'f'\n",
      " 'c' 'a' 'b' 'c' 'b' 'a' 'b' 'a' 'c' 'f' 'b' 'f' 'b' 'a' 'f' 'f' 'c' 'f'\n",
      " 'f' 'c' 'f' 'a' 'a' 'b' 'b' 'b' 'a' 'f' 'c' 'f' 'c' 'a' 'c' 'c' 'f' 'c'\n",
      " 'f' 'c' 'b' 'a' 'b' 'c' 'c' 'a' 'f' 'b' 'c' 'b' 'c' 'c' 'b' 'a' 'c' 'c'\n",
      " 'c' 'a' 'c' 'b' 'c' 'f' 'f' 'b' 'f' 'c' 'a' 'b' 'f' 'a' 'a' 'b' 'a' 'b'\n",
      " 'f' 'b' 'c' 'b' 'c' 'c' 'a' 'f' 'a' 'f' 'b' 'c' 'f' 'a' 'b' 'c' 'b' 'f'\n",
      " 'f' 'b' 'b' 'c' 'c' 'c' 'f' 'b' 'a' 'b' 'f' 'a' 'f' 'c' 'f' 'a' 'c' 'c'\n",
      " 'f' 'c' 'b' 'c' 'c' 'b' 'b' 'a' 'a' 'a' 'a' 'b' 'f' 'a' 'c' 'a' 'b' 'c'\n",
      " 'a' 'c' 'b' 'a' 'f' 'b' 'b' 'f' 'c' 'a' 'b' 'c' 'a' 'c' 'c' 'b' 'f' 'f'\n",
      " 'a' 'a' 'c' 'c' 'a' 'a' 'a' 'a' 'b' 'c' 'b' 'a' 'b' 'b' 'c' 'f' 'f' 'c'\n",
      " 'f' 'b' 'c' 'f' 'c' 'b' 'c' 'c' 'f' 'f' 'f' 'c' 'c' 'a' 'a' 'a' 'b' 'b'\n",
      " 'b' 'c' 'c' 'b' 'c' 'f' 'f' 'c' 'f' 'f' 'b' 'a' 'c' 'f' 'f' 'b' 'b' 'b'\n",
      " 'b' 'b' 'a' 'c' 'f' 'c' 'b' 'c' 'c' 'b' 'b' 'c' 'f' 'f' 'b' 'f' 'a' 'a'\n",
      " 'b' 'f' 'c' 'a' 'f' 'a' 'f' 'a' 'f' 'a' 'c' 'f' 'f' 'f' 'f' 'f' 'b' 'b'\n",
      " 'c' 'b' 'f' 'a' 'b' 'b' 'a' 'b' 'f' 'f' 'c' 'f' 'a' 'c' 'b' 'a' 'b' 'a'\n",
      " 'a' 'a' 'f' 'b' 'f' 'a' 'c' 'f' 'c' 'a' 'a' 'b' 'c' 'c' 'f' 'b' 'f' 'a'\n",
      " 'b' 'c' 'b' 'a' 'f' 'c' 'f' 'a' 'f' 'f' 'c' 'a' 'f' 'f' 'a' 'a' 'b' 'a'\n",
      " 'b' 'a' 'a' 'b' 'b' 'b' 'b' 'f' 'c' 'c' 'c' 'c' 'b' 'f' 'b' 'c' 'a' 'c'\n",
      " 'f' 'a' 'b' 'a' 'c' 'f' 'c' 'a' 'c' 'c' 'b' 'b' 'a' 'b' 'c' 'c' 'f' 'b'\n",
      " 'f' 'c' 'a' 'c' 'b' 'f' 'a' 'c' 'b' 'c' 'f' 'b' 'f' 'c' 'c' 'b' 'a' 'c'\n",
      " 'f' 'b' 'b' 'b' 'b' 'a' 'a' 'b' 'c' 'b' 'f' 'a' 'f' 'b' 'f' 'c' 'c' 'a'\n",
      " 'a' 'a' 'b' 'f' 'f' 'b' 'c' 'a' 'f' 'b' 'f' 'b' 'b' 'c' 'c' 'f' 'b' 'b'\n",
      " 'a' 'c' 'a' 'b' 'c' 'f' 'c' 'a' 'c' 'b' 'b' 'b' 'b' 'a' 'b' 'f' 'c' 'a'\n",
      " 'c' 'a' 'b' 'a' 'a' 'a' 'b' 'b' 'f' 'b' 'a' 'b' 'f' 'a' 'f' 'a' 'b' 'a'\n",
      " 'a' 'b' 'c' 'c' 'f' 'c' 'f' 'b' 'c' 'b' 'c' 'c' 'f' 'f' 'a' 'a' 'f' 'f'\n",
      " 'a' 'b' 'c' 'b' 'f' 'c' 'b' 'c' 'b' 'a' 'b' 'b' 'b' 'a' 'a' 'a' 'a' 'f'\n",
      " 'f' 'f' 'a' 'b' 'f' 'f' 'b' 'f' 'a' 'c' 'f' 'f' 'b' 'f' 'c' 'c' 'f' 'c'\n",
      " 'f' 'a' 'a' 'b' 'f' 'c' 'f' 'a' 'c' 'f' 'a' 'f' 'f' 'f' 'a' 'a' 'a' 'a'\n",
      " 'f' 'c' 'c' 'f' 'b' 'a' 'c' 'b' 'f' 'b' 'b' 'b' 'c' 'f' 'c' 'f' 'a' 'a'\n",
      " 'f' 'f' 'a' 'c' 'f' 'f' 'c' 'a' 'b' 'a' 'a' 'f' 'a' 'c' 'b' 'b' 'a' 'c'\n",
      " 'b' 'a' 'b' 'a' 'f' 'b' 'b' 'f' 'a' 'b' 'f' 'c' 'f' 'f' 'f' 'b' 'c' 'b'\n",
      " 'f' 'f' 'c' 'a' 'a' 'f' 'c' 'f' 'b' 'a' 'a' 'f' 'b' 'f' 'a' 'c' 'c' 'f'\n",
      " 'b' 'c' 'f' 'a' 'c' 'f' 'f' 'c' 'f' 'a' 'a' 'c' 'c' 'b' 'b' 'c' 'a' 'b'\n",
      " 'f' 'c' 'b' 'a' 'b' 'b' 'f' 'a' 'b' 'b' 'c' 'a' 'c' 'b' 'a' 'a' 'c' 'c'\n",
      " 'c' 'c' 'c' 'c' 'a' 'c' 'f' 'a' 'b' 'a' 'c' 'b' 'a' 'c' 'b' 'f' 'b' 'b'\n",
      " 'c' 'f' 'a' 'f' 'a' 'a' 'c' 'a' 'c' 'f' 'b' 'f' 'b' 'a' 'f' 'a' 'b' 'f'\n",
      " 'c' 'f' 'f' 'b' 'c' 'a' 'b' 'b' 'a' 'c' 'a' 'c' 'a' 'c' 'c' 'f' 'a' 'f'\n",
      " 'c' 'a' 'c' 'f' 'c' 'c' 'c' 'b' 'c' 'b' 'f' 'a' 'b' 'c' 'f' 'f' 'b' 'f'\n",
      " 'a' 'a' 'f' 'c' 'f' 'c' 'a' 'c' 'f' 'c' 'f' 'f' 'a' 'b' 'c' 'f' 'c' 'a'\n",
      " 'c' 'a' 'f' 'f' 'c' 'c' 'a' 'f' 'a' 'c']\n"
     ]
    }
   ],
   "source": [
    "h=np.random.choice(['a','b','c','f'],1000)\n",
    "print(h)"
   ]
  },
  {
   "cell_type": "code",
   "execution_count": 105,
   "metadata": {},
   "outputs": [
    {
     "data": {
      "text/plain": [
       "(array(['a', 'b', 'c', 'f'], dtype='<U1'),\n",
       " array([240, 253, 256, 251], dtype=int64))"
      ]
     },
     "execution_count": 105,
     "metadata": {},
     "output_type": "execute_result"
    }
   ],
   "source": [
    "#unique function\n",
    "np.unique(h,return_counts=True)\n",
    "#by default here all the variables get picked with almost equal probability in the random sample. \n",
    "#Although this doesnt mean that individual values are not random \n",
    "#but overall percentage of these variables remains almost same. "
   ]
  },
  {
   "cell_type": "code",
   "execution_count": 107,
   "metadata": {},
   "outputs": [
    {
     "name": "stdout",
     "output_type": "stream",
     "text": [
      "['b' 'f' 'f' 'f' 'b' 'a' 'f' 'f' 'b' 'b' 'a' 'b' 'b' 'f' 'b' 'a' 'f' 'b'\n",
      " 'a' 'f' 'b' 'b' 'b' 'a' 'a' 'a' 'c' 'b' 'b' 'b' 'a' 'b' 'b' 'b' 'c' 'b'\n",
      " 'b' 'b' 'f' 'f' 'b' 'a' 'b' 'f' 'f' 'f' 'b' 'f' 'a' 'a' 'a' 'f' 'b' 'a'\n",
      " 'a' 'b' 'f' 'a' 'b' 'c' 'c' 'b' 'b' 'b' 'b' 'b' 'c' 'b' 'f' 'c' 'a' 'a'\n",
      " 'a' 'b' 'b' 'b' 'b' 'b' 'c' 'f' 'a' 'f' 'b' 'f' 'b' 'a' 'b' 'f' 'b' 'f'\n",
      " 'b' 'f' 'b' 'a' 'f' 'b' 'c' 'b' 'a' 'b' 'a' 'a' 'a' 'f' 'f' 'a' 'a' 'b'\n",
      " 'a' 'c' 'f' 'c' 'a' 'b' 'b' 'b' 'f' 'f' 'b' 'c' 'a' 'a' 'f' 'b' 'f' 'b'\n",
      " 'b' 'f' 'b' 'b' 'a' 'b' 'b' 'f' 'a' 'f' 'a' 'a' 'b' 'f' 'b' 'f' 'a' 'f'\n",
      " 'b' 'b' 'b' 'b' 'b' 'a' 'f' 'a' 'f' 'f' 'b' 'b' 'f' 'b' 'b' 'b' 'a' 'b'\n",
      " 'c' 'f' 'a' 'c' 'b' 'b' 'f' 'b' 'b' 'f' 'f' 'a' 'f' 'f' 'a' 'f' 'b' 'b'\n",
      " 'b' 'b' 'b' 'b' 'b' 'b' 'f' 'f' 'f' 'a' 'a' 'a' 'a' 'f' 'a' 'b' 'a' 'b'\n",
      " 'f' 'a' 'b' 'b' 'f' 'c' 'b' 'b' 'b' 'a' 'a' 'b' 'f' 'c' 'a' 'f' 'b' 'f'\n",
      " 'f' 'b' 'f' 'b' 'b' 'c' 'a' 'c' 'f' 'c' 'a' 'b' 'f' 'f' 'b' 'a' 'f' 'b'\n",
      " 'a' 'b' 'a' 'b' 'b' 'c' 'a' 'a' 'f' 'a' 'b' 'a' 'a' 'f' 'f' 'a' 'b' 'b'\n",
      " 'a' 'f' 'f' 'b' 'c' 'b' 'a' 'c' 'b' 'a' 'f' 'a' 'b' 'b' 'b' 'c' 'a' 'a'\n",
      " 'b' 'a' 'a' 'a' 'a' 'b' 'c' 'b' 'f' 'b' 'b' 'b' 'f' 'c' 'b' 'c' 'c' 'c'\n",
      " 'f' 'b' 'b' 'b' 'b' 'f' 'b' 'b' 'f' 'a' 'b' 'a' 'f' 'c' 'b' 'b' 'a' 'f'\n",
      " 'f' 'f' 'c' 'b' 'b' 'b' 'f' 'b' 'f' 'b' 'b' 'b' 'f' 'b' 'b' 'f' 'b' 'b'\n",
      " 'b' 'a' 'f' 'b' 'b' 'b' 'b' 'f' 'f' 'b' 'b' 'b' 'f' 'b' 'f' 'f' 'b' 'f'\n",
      " 'f' 'b' 'b' 'b' 'a' 'b' 'a' 'b' 'a' 'b' 'a' 'b' 'f' 'a' 'b' 'b' 'f' 'a'\n",
      " 'f' 'f' 'b' 'b' 'f' 'b' 'f' 'b' 'f' 'f' 'f' 'a' 'b' 'f' 'a' 'b' 'f' 'b'\n",
      " 'b' 'b' 'b' 'f' 'f' 'f' 'f' 'f' 'a' 'b' 'b' 'b' 'a' 'c' 'b' 'a' 'b' 'b'\n",
      " 'b' 'f' 'f' 'f' 'f' 'b' 'a' 'f' 'b' 'c' 'c' 'a' 'c' 'b' 'a' 'f' 'f' 'a'\n",
      " 'b' 'c' 'a' 'b' 'c' 'c' 'f' 'c' 'b' 'b' 'c' 'b' 'a' 'b' 'b' 'f' 'f' 'f'\n",
      " 'f' 'f' 'f' 'f' 'b' 'a' 'b' 'b' 'a' 'b' 'b' 'f' 'b' 'b' 'f' 'b' 'b' 'b'\n",
      " 'b' 'a' 'f' 'f' 'b' 'f' 'b' 'a' 'b' 'b' 'a' 'a' 'b' 'a' 'a' 'b' 'b' 'b'\n",
      " 'a' 'f' 'b' 'b' 'a' 'a' 'f' 'b' 'c' 'a' 'c' 'b' 'b' 'b' 'a' 'b' 'f' 'a'\n",
      " 'a' 'a' 'c' 'a' 'b' 'c' 'a' 'a' 'a' 'a' 'b' 'b' 'f' 'b' 'a' 'b' 'a' 'f'\n",
      " 'c' 'c' 'b' 'f' 'c' 'a' 'a' 'c' 'a' 'f' 'c' 'f' 'b' 'f' 'f' 'b' 'b' 'b'\n",
      " 'a' 'b' 'f' 'b' 'c' 'f' 'b' 'f' 'b' 'b' 'b' 'b' 'b' 'a' 'c' 'c' 'f' 'b'\n",
      " 'b' 'f' 'b' 'f' 'c' 'f' 'b' 'b' 'c' 'b' 'b' 'b' 'b' 'b' 'f' 'a' 'a' 'f'\n",
      " 'f' 'b' 'a' 'b' 'f' 'b' 'b' 'b' 'b' 'f' 'f' 'b' 'f' 'a' 'c' 'a' 'a' 'a'\n",
      " 'b' 'f' 'c' 'b' 'a' 'f' 'a' 'b' 'f' 'b' 'c' 'b' 'f' 'f' 'f' 'b' 'b' 'f'\n",
      " 'f' 'c' 'c' 'a' 'b' 'b' 'f' 'b' 'c' 'b' 'b' 'f' 'a' 'b' 'f' 'f' 'b' 'b'\n",
      " 'b' 'b' 'a' 'b' 'b' 'b' 'b' 'f' 'a' 'a' 'a' 'f' 'f' 'f' 'b' 'f' 'a' 'a'\n",
      " 'f' 'b' 'f' 'f' 'a' 'f' 'f' 'b' 'b' 'b' 'a' 'b' 'f' 'b' 'c' 'a' 'b' 'a'\n",
      " 'b' 'a' 'b' 'c' 'b' 'a' 'c' 'b' 'f' 'b' 'a' 'b' 'b' 'a' 'f' 'b' 'b' 'f'\n",
      " 'f' 'a' 'c' 'f' 'f' 'a' 'f' 'b' 'f' 'f' 'b' 'b' 'f' 'a' 'f' 'b' 'b' 'a'\n",
      " 'b' 'f' 'f' 'b' 'a' 'b' 'b' 'b' 'b' 'f' 'a' 'b' 'b' 'b' 'f' 'a' 'a' 'b'\n",
      " 'a' 'b' 'a' 'f' 'f' 'a' 'c' 'b' 'f' 'b' 'b' 'f' 'a' 'a' 'f' 'c' 'f' 'f'\n",
      " 'f' 'b' 'a' 'f' 'a' 'a' 'b' 'b' 'b' 'a' 'f' 'a' 'b' 'f' 'f' 'f' 'c' 'b'\n",
      " 'b' 'b' 'b' 'b' 'f' 'f' 'b' 'b' 'b' 'b' 'b' 'f' 'b' 'a' 'f' 'f' 'a' 'b'\n",
      " 'f' 'f' 'a' 'b' 'b' 'c' 'b' 'a' 'f' 'f' 'f' 'b' 'b' 'b' 'b' 'b' 'f' 'f'\n",
      " 'b' 'a' 'b' 'a' 'b' 'f' 'a' 'b' 'f' 'b' 'a' 'a' 'b' 'b' 'f' 'a' 'b' 'b'\n",
      " 'c' 'a' 'a' 'a' 'f' 'c' 'c' 'f' 'b' 'b' 'b' 'f' 'f' 'a' 'b' 'b' 'f' 'a'\n",
      " 'f' 'f' 'f' 'b' 'f' 'b' 'a' 'c' 'a' 'c' 'c' 'f' 'c' 'b' 'a' 'f' 'b' 'b'\n",
      " 'f' 'b' 'f' 'b' 'b' 'c' 'f' 'f' 'b' 'b' 'a' 'b' 'a' 'b' 'b' 'f' 'b' 'b'\n",
      " 'b' 'b' 'b' 'c' 'b' 'b' 'b' 'f' 'b' 'f' 'c' 'f' 'b' 'b' 'b' 'b' 'b' 'f'\n",
      " 'a' 'f' 'a' 'b' 'f' 'b' 'b' 'b' 'a' 'a' 'f' 'f' 'b' 'f' 'b' 'f' 'f' 'b'\n",
      " 'b' 'f' 'b' 'b' 'b' 'b' 'c' 'f' 'b' 'c' 'b' 'b' 'b' 'b' 'b' 'b' 'f' 'a'\n",
      " 'b' 'b' 'b' 'b' 'b' 'b' 'b' 'b' 'f' 'c' 'a' 'c' 'b' 'b' 'b' 'b' 'b' 'c'\n",
      " 'b' 'b' 'c' 'f' 'a' 'f' 'a' 'b' 'b' 'a' 'a' 'b' 'b' 'b' 'b' 'c' 'b' 'a'\n",
      " 'a' 'b' 'a' 'f' 'f' 'b' 'b' 'a' 'b' 'f' 'b' 'a' 'a' 'f' 'b' 'a' 'f' 'b'\n",
      " 'a' 'f' 'f' 'a' 'a' 'b' 'b' 'b' 'f' 'b' 'f' 'b' 'b' 'b' 'f' 'a' 'a' 'f'\n",
      " 'b' 'a' 'b' 'f' 'f' 'a' 'f' 'f' 'c' 'a' 'a' 'a' 'b' 'b' 'a' 'b' 'a' 'b'\n",
      " 'c' 'b' 'f' 'b' 'f' 'a' 'b' 'f' 'c' 'c']\n"
     ]
    }
   ],
   "source": [
    "# We can force approx probability structure by using option p\n",
    "i=np.random.choice(['a','b','c','f'],1000,p=[0.2,0.4,0.10,0.3])\n",
    "print(i)"
   ]
  },
  {
   "cell_type": "code",
   "execution_count": 109,
   "metadata": {},
   "outputs": [
    {
     "data": {
      "text/plain": [
       "(array(['a', 'b', 'c', 'f'], dtype='<U1'),\n",
       " array([215, 431,  87, 267], dtype=int64))"
      ]
     },
     "execution_count": 109,
     "metadata": {},
     "output_type": "execute_result"
    }
   ],
   "source": [
    "np.unique(i,return_counts=True)"
   ]
  },
  {
   "cell_type": "code",
   "execution_count": 110,
   "metadata": {},
   "outputs": [
    {
     "name": "stdout",
     "output_type": "stream",
     "text": [
      "[[ 3  4  1]\n",
      " [45  3 21]\n",
      " [43 54 76]\n",
      " [45 87  1]]\n"
     ]
    }
   ],
   "source": [
    "#sum function\n",
    "\n",
    "my_array= np.array([[3,4,1],[45,3,21],[43,54,76],[45,87,1]])\n",
    "print(my_array)"
   ]
  },
  {
   "cell_type": "code",
   "execution_count": 111,
   "metadata": {},
   "outputs": [
    {
     "data": {
      "text/plain": [
       "383"
      ]
     },
     "execution_count": 111,
     "metadata": {},
     "output_type": "execute_result"
    }
   ],
   "source": [
    "# this simply sums the entire array\n",
    "np.sum(my_array)"
   ]
  },
  {
   "cell_type": "code",
   "execution_count": 119,
   "metadata": {},
   "outputs": [
    {
     "name": "stdout",
     "output_type": "stream",
     "text": [
      "[[ 3  4  1]\n",
      " [45  3 21]\n",
      " [43 54 76]\n",
      " [45 87  1]]\n"
     ]
    },
    {
     "data": {
      "text/plain": [
       "array([136, 148,  99])"
      ]
     },
     "execution_count": 119,
     "metadata": {},
     "output_type": "execute_result"
    }
   ],
   "source": [
    "#Sum and other mathematical functions can work across dimensions or multiple values at once\n",
    "#In that respect you can say axis=0 represent columns and axis=1 represent rows of an array\n",
    "print(my_array)\n",
    "np.sum(my_array,axis=1)\n",
    "np.sum(my_array,axis=0)"
   ]
  },
  {
   "cell_type": "code",
   "execution_count": 121,
   "metadata": {},
   "outputs": [
    {
     "data": {
      "text/plain": [
       "array([[1.73205081, 2.        , 1.        ],\n",
       "       [6.70820393, 1.73205081, 4.58257569],\n",
       "       [6.55743852, 7.34846923, 8.71779789],\n",
       "       [6.70820393, 9.32737905, 1.        ]])"
      ]
     },
     "execution_count": 121,
     "metadata": {},
     "output_type": "execute_result"
    }
   ],
   "source": [
    "#sqrt function: used to find the square root of elements in an array\n",
    "np.sqrt(my_array)"
   ]
  },
  {
   "cell_type": "code",
   "execution_count": 122,
   "metadata": {},
   "outputs": [
    {
     "data": {
      "text/plain": [
       "array([6.55743852, 7.34846923, 8.71779789])"
      ]
     },
     "execution_count": 122,
     "metadata": {},
     "output_type": "execute_result"
    }
   ],
   "source": [
    "np.sqrt(my_array[2])"
   ]
  },
  {
   "cell_type": "code",
   "execution_count": 135,
   "metadata": {},
   "outputs": [
    {
     "name": "stdout",
     "output_type": "stream",
     "text": [
      "[[ 3  4  1]\n",
      " [45  3 21]\n",
      " [43 54 76]\n",
      " [45 87  1]]\n"
     ]
    },
    {
     "data": {
      "text/plain": [
       "3"
      ]
     },
     "execution_count": 135,
     "metadata": {},
     "output_type": "execute_result"
    }
   ],
   "source": [
    "print(my_array)\n",
    "np.min(my_array[1:3])"
   ]
  },
  {
   "cell_type": "code",
   "execution_count": 138,
   "metadata": {},
   "outputs": [
    {
     "data": {
      "text/plain": [
       "45"
      ]
     },
     "execution_count": 138,
     "metadata": {},
     "output_type": "execute_result"
    }
   ],
   "source": [
    "np.max(my_array[0:2])"
   ]
  },
  {
   "cell_type": "code",
   "execution_count": 146,
   "metadata": {},
   "outputs": [
    {
     "name": "stdout",
     "output_type": "stream",
     "text": [
      "[[ 3  4  1]\n",
      " [45  3 21]\n",
      " [43 54 76]\n",
      " [45 87  1]]\n"
     ]
    },
    {
     "data": {
      "text/plain": [
       "12.833333333333334"
      ]
     },
     "execution_count": 146,
     "metadata": {},
     "output_type": "execute_result"
    }
   ],
   "source": [
    "print(my_array)\n",
    "np.mean(my_array[:2])"
   ]
  },
  
  {
   "cell_type": "code",
   "execution_count": null,
   "metadata": {},
   "outputs": [],
   "source": []
  }
 ],
 "metadata": {
  "kernelspec": {
   "display_name": "Python 3",
   "language": "python",
   "name": "python3"
  },
  "language_info": {
   "codemirror_mode": {
    "name": "ipython",
    "version": 3
   },
   "file_extension": ".py",
   "mimetype": "text/x-python",
   "name": "python",
   "nbconvert_exporter": "python",
   "pygments_lexer": "ipython3",
   "version": "3.8.3"
  }
 },
 "nbformat": 4,
 "nbformat_minor": 4
}
